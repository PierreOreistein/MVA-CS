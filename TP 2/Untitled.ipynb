{
 "cells": [
  {
   "cell_type": "markdown",
   "metadata": {},
   "source": [
    "# 0 - Information"
   ]
  },
  {
   "cell_type": "code",
   "execution_count": null,
   "metadata": {},
   "outputs": [],
   "source": []
  },
  {
   "cell_type": "markdown",
   "metadata": {},
   "source": [
    "# 1 - Packages"
   ]
  },
  {
   "cell_type": "code",
   "execution_count": 1,
   "metadata": {
    "ExecuteTime": {
     "end_time": "2018-11-09T11:25:01.759755Z",
     "start_time": "2018-11-09T11:25:01.005578Z"
    }
   },
   "outputs": [],
   "source": [
    "%matplotlib  inline\n",
    "\n",
    "# Mathematical packages\n",
    "import numpy as np\n",
    "from scipy.stats import norm, chi2\n",
    "\n",
    "# Graphic packages\n",
    "%matplotlib inline\n",
    "import matplotlib.pyplot as plt\n",
    "import matplotlib.patches as patches\n",
    "import matplotlib.cm as cm\n",
    "import seaborn as sns\n",
    "sns.set()"
   ]
  },
  {
   "cell_type": "markdown",
   "metadata": {},
   "source": [
    "# Exercie 1"
   ]
  },
  {
   "cell_type": "markdown",
   "metadata": {},
   "source": [
    "## Question 1.2"
   ]
  },
  {
   "cell_type": "code",
   "execution_count": 2,
   "metadata": {
    "ExecuteTime": {
     "end_time": "2018-11-09T11:25:02.012093Z",
     "start_time": "2018-11-09T11:25:02.005207Z"
    }
   },
   "outputs": [],
   "source": [
    "def generateX(n, p=np.array([0.25,0.25,0.5])):\n",
    "    \"\"\"Generate n samples a the discret law X following the p probabilities.\"\"\"\n",
    "    \n",
    "    # Parameters\n",
    "    k = len(p)\n",
    "    \n",
    "    # Saving samples\n",
    "    samples = []\n",
    "    \n",
    "    # Generate each sample\n",
    "    for i in range(n):\n",
    "        \n",
    "        # Generate a new sample of the uniform distribution\n",
    "        u = np.random.uniform(0, 1)\n",
    "        \n",
    "        # Extract the corrsponding value of X:\n",
    "        # Initiale value\n",
    "        x = -1\n",
    "        i = 0\n",
    "        while x == -1:\n",
    "            if u <= p[0:i+1].sum():\n",
    "                x = i\n",
    "            else:\n",
    "                i += 1\n",
    "                \n",
    "        # Update the saving array\n",
    "        samples.append(x)\n",
    "        \n",
    "    return samples"
   ]
  },
  {
   "cell_type": "code",
   "execution_count": 3,
   "metadata": {
    "ExecuteTime": {
     "end_time": "2018-11-09T11:25:02.282771Z",
     "start_time": "2018-11-09T11:25:02.274219Z"
    },
    "scrolled": true
   },
   "outputs": [
    {
     "data": {
      "text/plain": [
       "[2,\n",
       " 2,\n",
       " 2,\n",
       " 2,\n",
       " 2,\n",
       " 0,\n",
       " 2,\n",
       " 1,\n",
       " 1,\n",
       " 1,\n",
       " 1,\n",
       " 1,\n",
       " 1,\n",
       " 1,\n",
       " 1,\n",
       " 2,\n",
       " 2,\n",
       " 1,\n",
       " 0,\n",
       " 1,\n",
       " 2,\n",
       " 0,\n",
       " 2,\n",
       " 2,\n",
       " 1,\n",
       " 1,\n",
       " 2,\n",
       " 2,\n",
       " 2,\n",
       " 1,\n",
       " 0,\n",
       " 0,\n",
       " 2,\n",
       " 1,\n",
       " 2,\n",
       " 1,\n",
       " 2,\n",
       " 2,\n",
       " 1,\n",
       " 2,\n",
       " 2,\n",
       " 2,\n",
       " 2,\n",
       " 2,\n",
       " 2,\n",
       " 0,\n",
       " 2,\n",
       " 2,\n",
       " 2,\n",
       " 2,\n",
       " 0,\n",
       " 2,\n",
       " 0,\n",
       " 2,\n",
       " 2,\n",
       " 2,\n",
       " 2,\n",
       " 2,\n",
       " 0,\n",
       " 2,\n",
       " 2,\n",
       " 2,\n",
       " 2,\n",
       " 2,\n",
       " 0,\n",
       " 2,\n",
       " 2,\n",
       " 1,\n",
       " 0,\n",
       " 1,\n",
       " 1,\n",
       " 0,\n",
       " 0,\n",
       " 2,\n",
       " 0,\n",
       " 0,\n",
       " 2,\n",
       " 1,\n",
       " 0,\n",
       " 0,\n",
       " 2,\n",
       " 1,\n",
       " 2,\n",
       " 1,\n",
       " 2,\n",
       " 2,\n",
       " 1,\n",
       " 2,\n",
       " 0,\n",
       " 0,\n",
       " 0,\n",
       " 1,\n",
       " 2,\n",
       " 1,\n",
       " 2,\n",
       " 2,\n",
       " 2,\n",
       " 2,\n",
       " 1,\n",
       " 2]"
      ]
     },
     "execution_count": 3,
     "metadata": {},
     "output_type": "execute_result"
    }
   ],
   "source": [
    "# Generate the samples\n",
    "samples = generateX(100)\n",
    "\n",
    "# Display them\n",
    "samples"
   ]
  },
  {
   "cell_type": "markdown",
   "metadata": {},
   "source": [
    "## Question 1.3"
   ]
  },
  {
   "cell_type": "code",
   "execution_count": 4,
   "metadata": {
    "ExecuteTime": {
     "end_time": "2018-11-09T11:25:03.174304Z",
     "start_time": "2018-11-09T11:25:03.167427Z"
    }
   },
   "outputs": [],
   "source": [
    "# Number of classes and number of samples\n",
    "N = int(50)\n",
    "n = 30\n",
    "\n",
    "# Law on this distribution\n",
    "p = np.array([1/N for i in range(N)])\n",
    "\n",
    "# Generate the samples\n",
    "samples = generateX(n, p=p)"
   ]
  },
  {
   "cell_type": "code",
   "execution_count": 5,
   "metadata": {
    "ExecuteTime": {
     "end_time": "2018-11-09T11:25:04.525037Z",
     "start_time": "2018-11-09T11:25:03.473199Z"
    }
   },
   "outputs": [
    {
     "data": {
      "image/png": "[encoded data removed]",
      "text/plain": [
       "<Figure size 1440x576 with 1 Axes>"
      ]
     },
     "metadata": {
      "needs_background": "light"
     },
     "output_type": "display_data"
    }
   ],
   "source": [
    "# Parameters of the figure\n",
    "fig, ax = plt.subplots(figsize=(20,8))\n",
    "plt.grid(True)\n",
    "width = 0.45\n",
    "\n",
    "# Values of the x array\n",
    "X = np.array([i for i in range(N)])\n",
    "Y = np.array([samples.count(i) for i in range(N)])\n",
    "Y = Y / Y.sum()\n",
    "\n",
    "# Display the two histogrammes\n",
    "plt.bar(X, p, width=width, label=\"True probabilities\")\n",
    "plt.bar(X + 0.5, Y, width=width, label=\"Empirical probabilities\")\n",
    "\n",
    "# Legend\n",
    "plt.legend()\n",
    "\n",
    "# Labels of the axis\n",
    "plt.xlabel(\"Class\")\n",
    "plt.ylabel(\"Probability\")\n",
    "\n",
    "# Save the figure\n",
    "plt.savefig(\"Images/Histogramme.eps\", bbox_inches='tight', pad_inches=0.0)\n",
    "\n",
    "# Display the figure\n",
    "plt.show()"
   ]
  },
  {
   "cell_type": "markdown",
   "metadata": {},
   "source": [
    "# Exercise 2"
   ]
  },
  {
   "cell_type": "markdown",
   "metadata": {},
   "source": [
    "## Question 2.2"
   ]
  },
  {
   "cell_type": "markdown",
   "metadata": {},
   "source": [
    "### Generate the Z"
   ]
  },
  {
   "cell_type": "code",
   "execution_count": 6,
   "metadata": {
    "ExecuteTime": {
     "end_time": "2018-11-09T11:25:05.488356Z",
     "start_time": "2018-11-09T11:25:05.474678Z"
    }
   },
   "outputs": [],
   "source": [
    "# Number of class\n",
    "K = 3\n",
    "\n",
    "# Number of samples\n",
    "n = 1000\n",
    "\n",
    "# Generate the samples of Z\n",
    "Z = generateX(n)"
   ]
  },
  {
   "cell_type": "markdown",
   "metadata": {},
   "source": [
    "### Generate the Covariances matrices and mu"
   ]
  },
  {
   "cell_type": "code",
   "execution_count": 7,
   "metadata": {
    "ExecuteTime": {
     "end_time": "2018-11-09T11:25:06.280447Z",
     "start_time": "2018-11-09T11:25:06.269138Z"
    }
   },
   "outputs": [],
   "source": [
    "def generateRandomCovarianceMatrices(d=2, K=4):\n",
    "    \"\"\"Generate random covariance matrices.\"\"\"\n",
    "    \n",
    "    # Initialisation of the random matrices\n",
    "    cov = np.zeros((K, d, d))\n",
    "    \n",
    "    for k in range(K):\n",
    "        P = np.random.rand(d, d)\n",
    "        Q, R = np.linalg.qr(P)\n",
    "        cov[k,:,:] = np.dot(Q, np.dot(np.diag(np.random.rand(d) +1 ), np.transpose(Q)))\n",
    "        \n",
    "    return cov"
   ]
  },
  {
   "cell_type": "code",
   "execution_count": 129,
   "metadata": {
    "ExecuteTime": {
     "end_time": "2018-11-09T11:49:36.917406Z",
     "start_time": "2018-11-09T11:49:36.910498Z"
    }
   },
   "outputs": [],
   "source": [
    "# Dimension of the x_i\n",
    "d = 2\n",
    "\n",
    "# Generate the covariances matrices\n",
    "cov_x = 0.1 * generateRandomCovarianceMatrices(d=d, K=K)\n",
    "\n",
    "# Generate the means: mu\n",
    "mu_x = np.random.rand(K, d) * 4 - 1"
   ]
  },
  {
   "cell_type": "code",
   "execution_count": 130,
   "metadata": {
    "ExecuteTime": {
     "end_time": "2018-11-09T11:49:37.238237Z",
     "start_time": "2018-11-09T11:49:37.232783Z"
    }
   },
   "outputs": [
    {
     "data": {
      "text/plain": [
       "array([[ 1.8500726 , -0.64772811],\n",
       "       [ 0.210644  ,  0.9592446 ],\n",
       "       [ 2.22636877,  0.26826735]])"
      ]
     },
     "execution_count": 130,
     "metadata": {},
     "output_type": "execute_result"
    }
   ],
   "source": [
    "mu_x"
   ]
  },
  {
   "cell_type": "code",
   "execution_count": 131,
   "metadata": {
    "ExecuteTime": {
     "end_time": "2018-11-09T11:49:37.418943Z",
     "start_time": "2018-11-09T11:49:37.414264Z"
    }
   },
   "outputs": [
    {
     "data": {
      "text/plain": [
       "array([[[ 0.12442987,  0.0294925 ],\n",
       "        [ 0.0294925 ,  0.15894337]],\n",
       "\n",
       "       [[ 0.16514987, -0.01643957],\n",
       "        [-0.01643957,  0.15749557]],\n",
       "\n",
       "       [[ 0.17763379, -0.01198542],\n",
       "        [-0.01198542,  0.1891437 ]]])"
      ]
     },
     "execution_count": 131,
     "metadata": {},
     "output_type": "execute_result"
    }
   ],
   "source": [
    "cov_x"
   ]
  },
  {
   "cell_type": "markdown",
   "metadata": {},
   "source": [
    "### Generate the X"
   ]
  },
  {
   "cell_type": "code",
   "execution_count": 132,
   "metadata": {
    "ExecuteTime": {
     "end_time": "2018-11-09T11:49:37.723980Z",
     "start_time": "2018-11-09T11:49:37.717426Z"
    }
   },
   "outputs": [],
   "source": [
    "def generateGMM(Z, mu, cov):\n",
    "    \"\"\"Generathe the X according to a gaussian mixture model and the Z.\"\"\"\n",
    "    \n",
    "    # Number of classes\n",
    "    K = len(cov)\n",
    "    \n",
    "    # Number of samples to generate\n",
    "    n = len(Z)\n",
    "    \n",
    "    # Saving array\n",
    "    X = []\n",
    "    \n",
    "    # Generate each sample of X\n",
    "    for i in range(n):\n",
    "        \n",
    "        # Extract associated gaussian\n",
    "        k = Z[i]\n",
    "        \n",
    "        # Extract associated mu and covariance matrix\n",
    "        mu_i = mu[k, :]\n",
    "        cov_i = cov[k, :, :]\n",
    "        \n",
    "        # Generate a sample of X according to this gaussian\n",
    "        x_i = np.random.multivariate_normal(mu_i, cov_i)\n",
    "        \n",
    "        # Update saving array\n",
    "        X.append(x_i)\n",
    "        \n",
    "    return np.array(X)"
   ]
  },
  {
   "cell_type": "code",
   "execution_count": 133,
   "metadata": {
    "ExecuteTime": {
     "end_time": "2018-11-09T11:49:38.037824Z",
     "start_time": "2018-11-09T11:49:37.880222Z"
    }
   },
   "outputs": [
    {
     "data": {
      "text/plain": [
       "array([[ 1.9823629 , -0.59680792],\n",
       "       [ 1.08093544,  0.94520795],\n",
       "       [ 1.48209012,  0.43620829],\n",
       "       ...,\n",
       "       [ 2.09013611,  0.41311928],\n",
       "       [ 2.15168707, -1.01626802],\n",
       "       [ 2.39440485,  0.53335681]])"
      ]
     },
     "execution_count": 133,
     "metadata": {},
     "output_type": "execute_result"
    }
   ],
   "source": [
    "# Generate the samples of X\n",
    "X = generateGMM(Z, mu_x, cov_x)\n",
    "\n",
    "# Display the result\n",
    "X"
   ]
  },
  {
   "cell_type": "markdown",
   "metadata": {},
   "source": [
    "## Question 2.3 "
   ]
  },
  {
   "cell_type": "markdown",
   "metadata": {},
   "source": [
    "### Graphic functions"
   ]
  },
  {
   "cell_type": "code",
   "execution_count": 134,
   "metadata": {
    "ExecuteTime": {
     "end_time": "2018-11-09T11:49:38.348204Z",
     "start_time": "2018-11-09T11:49:38.345303Z"
    }
   },
   "outputs": [],
   "source": [
    "def attribute_clusters(q):\n",
    "    \"\"\"Attribute a cluster to each data point contain in gamma.\"\"\"\n",
    "    \n",
    "    return np.argmax(q, axis=1)"
   ]
  },
  {
   "cell_type": "code",
   "execution_count": 135,
   "metadata": {
    "ExecuteTime": {
     "end_time": "2018-11-09T11:49:38.519563Z",
     "start_time": "2018-11-09T11:49:38.512550Z"
    }
   },
   "outputs": [],
   "source": [
    "def cov_ellipse(cov, q=None, nsig=None, **kwargs):\n",
    "    \"\"\"\n",
    "    Parameters\n",
    "    ----------\n",
    "    cov : (2, 2) array\n",
    "        Covariance matrix.\n",
    "    q : float, optional\n",
    "        Confidence level, should be in (0, 1)\n",
    "    nsig : int, optional\n",
    "        Confidence level in unit of standard deviations. \n",
    "        E.g. 1 stands for 68.3% and 2 stands for 95.4%.\n",
    "\n",
    "    Returns\n",
    "    -------\n",
    "    width, height, rotation :\n",
    "         The lengths of two axises and the rotation angle in degree\n",
    "    for the ellipse.\n",
    "    \"\"\"\n",
    "\n",
    "    if q is not None:\n",
    "        q = np.asarray(q)\n",
    "    elif nsig is not None:\n",
    "        q = 2 * norm.cdf(nsig) - 1\n",
    "    else:\n",
    "        raise ValueError('One of `q` and `nsig` should be specified.')\n",
    "    \n",
    "    \n",
    "    r2 = chi2.ppf(q, 2)\n",
    "\n",
    "    val, vec = np.linalg.eigh(cov)\n",
    "    width, height = 2 * np.sqrt(val[:, None] * r2)\n",
    "    rotation = np.degrees(np.arctan2(*vec[::-1, 0]))\n",
    "\n",
    "    return width, height, rotation"
   ]
  },
  {
   "cell_type": "code",
   "execution_count": 136,
   "metadata": {
    "ExecuteTime": {
     "end_time": "2018-11-09T11:49:38.689083Z",
     "start_time": "2018-11-09T11:49:38.680600Z"
    }
   },
   "outputs": [],
   "source": [
    "def ellipsoides(mu, cov, ax):\n",
    "    \"\"\"Display 90% of the mass of the gaussian distributions contain in mu and sigma2 \"\"\"\n",
    "\n",
    "    # Parameter\n",
    "    K = len(cov)\n",
    "    n, d = np.shape(X)\n",
    "    \n",
    "    # Clusters\n",
    "    clusters = [i for i in range(K)]\n",
    "    \n",
    "    # Set of colors\n",
    "    cmap = cm.get_cmap(\"tab10\") #[\"orange\", \"red\", \"green\", \"blue\"]\n",
    "    colors = np.array([cmap(c) for c in clusters])\n",
    "    \n",
    "    # Add the ellipsoide for each gaussian        \n",
    "    for k in range(K):\n",
    "        width, height, rotation = cov_ellipse(cov[k,:,:], q=0.9)\n",
    "        p = patches.Ellipse(xy=(mu[k,0], mu[k,1]),\n",
    "                            width=width, height=height, angle=rotation, \n",
    "                            edgecolor=colors[k],\n",
    "                            fill=False)\n",
    "        ax.add_patch(p)"
   ]
  },
  {
   "cell_type": "code",
   "execution_count": 137,
   "metadata": {
    "ExecuteTime": {
     "end_time": "2018-11-09T11:49:38.841021Z",
     "start_time": "2018-11-09T11:49:38.834405Z"
    }
   },
   "outputs": [],
   "source": [
    "def scatter(X, clusters, K, label=\"Cluster \", s=20, alpha=1, marker=\"x\", edgecolors=\"none\"):\n",
    "    \"\"\"This function displays the points (x_i) contains in X.\n",
    "       It also adapted the color of the point according to the cluster it belongs to.\"\"\"\n",
    "    \n",
    "    # Set of colors\n",
    "    cmap = cm.get_cmap(\"tab10\") #[\"orange\", \"red\", \"green\", \"blue\"]\n",
    "    colors = np.array([cmap(c) for c in clusters])\n",
    "    \n",
    "    # Display the data for each cluster\n",
    "    for k in range(K):\n",
    "        \n",
    "        # Extract the coordinates and colors\n",
    "        X_k = X[np.where([clusters == k])[1], :]\n",
    "        colors_k = colors[np.where([clusters == k])[1]]\n",
    "        \n",
    "        # Made the scatter plot\n",
    "        plt.scatter(x=X_k[:,0], y=X_k[:,1], label=label + str(k), \n",
    "                    c=colors_k, alpha=alpha, marker=marker, s=s,\n",
    "                    edgecolors=edgecolors)"
   ]
  },
  {
   "cell_type": "code",
   "execution_count": 138,
   "metadata": {
    "ExecuteTime": {
     "end_time": "2018-11-09T11:49:39.020286Z",
     "start_time": "2018-11-09T11:49:39.011420Z"
    }
   },
   "outputs": [],
   "source": [
    "def figure_EM(X, pi, cov, mu, q, ellipsoides_func=ellipsoides, name=\"EM_Isotropic\"):\n",
    "    \"\"\"This functions display the data point, the cluster, and the parameters of\n",
    "       the gaussians of the latent variables.\"\"\"\n",
    "    \n",
    "    # Parameter\n",
    "    K = len(cov)\n",
    "    n, d = np.shape(X)\n",
    "    \n",
    "    # Parameters of the figure\n",
    "    fig, ax = plt.subplots(figsize=(11, 11))\n",
    "    plt.grid(True)\n",
    "    \n",
    "    # Set the axes\n",
    "    ax.set_xlim(X[:,0].min() - 1, X[:,0].max() + 1)\n",
    "    ax.set_ylim(X[:,1].min() - 1, X[:,1].max() + 1)\n",
    "    ax.set_aspect(1.0)\n",
    "    \n",
    "    # Attribute a cluster to each data point and display the data\n",
    "    clusters = attribute_clusters(q)\n",
    "    scatter(X, clusters, K, alpha=0.6)\n",
    "    \n",
    "    # Display the mean of the gaussians\n",
    "    clusters_mu = np.array([i for i in range(K)])\n",
    "    scatter(mu, clusters_mu, K, label=\"Center \", marker=\"o\", s=50,\n",
    "            edgecolors=\"black\")\n",
    "    \n",
    "    #  Display the ellipsoide of each cluster\n",
    "    ellipsoides_func(mu, cov, ax)\n",
    "\n",
    "    # Legend of the axes\n",
    "    plt.xlabel(\"x_1\")\n",
    "    plt.ylabel(\"x_2\")\n",
    "    \n",
    "    # Display the legend\n",
    "    plt.legend()\n",
    "    \n",
    "    # Save the fig\n",
    "    plt.savefig(\"./Images/\" + name, bbox_inches='tight', pad_inches=0.0)\n",
    "    \n",
    "    # Display the figure\n",
    "    plt.show()"
   ]
  },
  {
   "cell_type": "markdown",
   "metadata": {},
   "source": [
    "### Kmeans"
   ]
  },
  {
   "cell_type": "markdown",
   "metadata": {},
   "source": [
    "We implement the Kmeans for a right initialisation of the EM"
   ]
  },
  {
   "cell_type": "code",
   "execution_count": 139,
   "metadata": {
    "ExecuteTime": {
     "end_time": "2018-11-09T11:49:39.498466Z",
     "start_time": "2018-11-09T11:49:39.495613Z"
    }
   },
   "outputs": [],
   "source": [
    "def norme(x,y):\n",
    "    \"\"\"This functions compute the norm L2 on the difference of x and y.\"\"\"\n",
    "    \n",
    "    return np.sqrt(np.sum((x - y)**2))"
   ]
  },
  {
   "cell_type": "code",
   "execution_count": 140,
   "metadata": {
    "ExecuteTime": {
     "end_time": "2018-11-09T11:49:39.704089Z",
     "start_time": "2018-11-09T11:49:39.694011Z"
    }
   },
   "outputs": [],
   "source": [
    "def Kmeans(X, K=4, nb_iter=10):\n",
    "    \"\"\"This functions compute the K associated cluster to X according the K means \n",
    "       algorithm.\"\"\"\n",
    "    \n",
    "    # Parameters\n",
    "    n, d = np.shape(X)\n",
    "    \n",
    "    # Initialisation of the centroids\n",
    "    centroids = np.random.normal(X.mean(axis=0), X.std(axis=0), size=(K, d))\n",
    "    \n",
    "    # Initialisation of the associated clusters\n",
    "    clusters = np.zeros(n, dtype=int)\n",
    "    \n",
    "    # Execute the pre-defined number of iterations\n",
    "    for t in range(nb_iter):\n",
    "        \n",
    "        # For each data, attach a cluster\n",
    "        for i in range(n):\n",
    "            \n",
    "            # Initialisation of the distance and the associated cluster\n",
    "            distance = float('inf')\n",
    "            clust = 0\n",
    "            \n",
    "            for k in range(K):\n",
    "                newdist = norme(centroids[k,:], X[i,:])\n",
    "                if newdist < distance:\n",
    "                    distance = newdist\n",
    "                    clust = k\n",
    "            \n",
    "            # Update of the associated cluster\n",
    "            clusters[i] = clust\n",
    "        \n",
    "        # Update of the centroids\n",
    "        for k in range(K):\n",
    "            centroids[k, :] = np.mean(X[np.where([clusters == k])[1], :], axis=0)\n",
    "    \n",
    "    # Return the result\n",
    "    return centroids, clusters"
   ]
  },
  {
   "cell_type": "markdown",
   "metadata": {},
   "source": [
    "### EM algorithm"
   ]
  },
  {
   "cell_type": "code",
   "execution_count": 141,
   "metadata": {
    "ExecuteTime": {
     "end_time": "2018-11-09T11:49:40.241137Z",
     "start_time": "2018-11-09T11:49:40.233409Z"
    }
   },
   "outputs": [],
   "source": [
    "def objectif(X, pi, cov, mu, q):\n",
    "    \"\"\"This function computes the complete-log-likelihood for the given parameters.\"\"\"\n",
    "    \n",
    "    # Parameters\n",
    "    K = len(pi)\n",
    "    n, d = np.shape(X)\n",
    "    \n",
    "    # Initialisation of the value of the objectif function\n",
    "    objectif = 0\n",
    "    \n",
    "    # Loop over each data point\n",
    "    for i in range(n):\n",
    "        for k in range(K):\n",
    "            \n",
    "            y = X[i,:] - mu[k,:]\n",
    "            inv = np.linalg.inv(cov[k,:,:])\n",
    "            \n",
    "            objectif -= 0.5 * np.dot(y, np.dot(inv, y))\n",
    "            objectif -= np.log(2 * np.pi * np.sqrt(np.linalg.det(cov[k,:,:])))\n",
    "            objectif += np.log(pi[k])\n",
    "            objectif *= q[i,k]\n",
    "    \n",
    "    return objectif"
   ]
  },
  {
   "cell_type": "code",
   "execution_count": 142,
   "metadata": {
    "ExecuteTime": {
     "end_time": "2018-11-09T11:49:40.589136Z",
     "start_time": "2018-11-09T11:49:40.577318Z"
    }
   },
   "outputs": [],
   "source": [
    "def Estep(X, pi, cov, mu):\n",
    "    \"\"\"This function executes the E step for general matrices\"\"\"\n",
    "    \n",
    "    # Parameters\n",
    "    n, d = np.shape(X)\n",
    "    K = len(pi)\n",
    "    \n",
    "    # Initialisation\n",
    "    argexpo = np.zeros((n,K))\n",
    "    \n",
    "    for i in range(n):\n",
    "        for k in range(K):\n",
    "            \n",
    "            y = X[i,:] - mu[k,:]\n",
    "            inv = np.linalg.inv(cov[k,:,:])\n",
    "            \n",
    "            argexpo[i,k] -= 0.5 * np.dot(y, np.dot(inv, y))\n",
    "            argexpo[i,k] += np.log(pi[k])\n",
    "            argexpo[i,k] -= np.log(2 * np.pi * np.sqrt(np.linalg.det(cov[k,:,:])))\n",
    "    \n",
    "    # Computation of the max argexpo for each data point i\n",
    "    maxi = np.tile(np.amax(argexpo, axis=1).reshape(n, 1), (1, K))\n",
    "    \n",
    "    # Computation of the logarithm of q_ik\n",
    "    ln_q = argexpo - maxi\n",
    "    ln_q -= np.tile(np.log(np.sum(np.exp(argexpo - maxi),axis=1).reshape(n, 1)), (1, K))\n",
    "    \n",
    "    return np.exp(ln_q)"
   ]
  },
  {
   "cell_type": "code",
   "execution_count": 143,
   "metadata": {
    "ExecuteTime": {
     "end_time": "2018-11-09T11:49:40.909653Z",
     "start_time": "2018-11-09T11:49:40.901102Z"
    }
   },
   "outputs": [],
   "source": [
    "def Mstep(X, pi, cov, mu, q):\n",
    "    \"\"\"This function executes the M step of the EM algorithm for general covariance\n",
    "       matrices.\"\"\"\n",
    "    \n",
    "    # Parameters\n",
    "    K = len(pi)\n",
    "    n, d = np.shape(X)\n",
    "    \n",
    "    # Estimator of mu_k\n",
    "    for k in range(K):\n",
    "        \n",
    "        mu[k,:] = [0,0]\n",
    "        \n",
    "        for i in range(n):\n",
    "            mu[k,:] += q[i,k] * X[i,:]\n",
    "            \n",
    "        mu[k,:] /= np.sum(q[:,k])\n",
    "    \n",
    "    # Estimator of sigma2_k\n",
    "    for k in range(K):\n",
    "        \n",
    "        cov[k,:,:] = np.zeros((d,d))\n",
    "        \n",
    "        for i in range(n):\n",
    "            \n",
    "            y = (X[i,:] - mu[k,:]).reshape(d, 1)     \n",
    "            cov[k,:,:] += q[i,k] * np.dot(y, y.T)\n",
    "\n",
    "        cov[k,:,:] /= np.sum(q[:,k])\n",
    "        \n",
    "        # Regularisation for avoiding null matrices.\n",
    "        cov[k,:,:] += 0.001 * np.eye(d)\n",
    "\n",
    "    # Estimator of pi_k\n",
    "    pi = np.sum(q, axis=0)\n",
    "    pi /= np.sum(pi)\n",
    "    \n",
    "    # Return results\n",
    "    return pi, cov, mu"
   ]
  },
  {
   "cell_type": "code",
   "execution_count": 144,
   "metadata": {
    "ExecuteTime": {
     "end_time": "2018-11-09T11:49:41.265852Z",
     "start_time": "2018-11-09T11:49:41.254491Z"
    }
   },
   "outputs": [],
   "source": [
    "def EM(X, K=3):\n",
    "    \"\"\"This function executes the EM algorithm.\"\"\"\n",
    "    \n",
    "    # Parameters\n",
    "    n, d = np.shape(X)\n",
    "    \n",
    "    # Initialisation of the latent probabilities\n",
    "    q = np.random.rand(n, K) \n",
    "    for i in range(n):\n",
    "        q[i,:] /= np.sum(q[i,:]) \n",
    "        \n",
    "    # Initialisation of the parameters for the E step\n",
    "    cov = generateRandomCovarianceMatrices(d, K)\n",
    "    mu = Kmeans(X, K=K)[0]\n",
    "    pi = np.random.rand(K)\n",
    "    pi /= np.sum(pi)\n",
    "    \n",
    "    # Saving array of the log-likelihood\n",
    "    log_likelihood_l = []\n",
    "    \n",
    "    # Initialisation of the objectif\n",
    "    objectif_new = objectif(X, pi, cov, mu, q)\n",
    "    objectif_old = 2 * objectif_new\n",
    "    \n",
    "    # Update the saving array of the log-likelihood\n",
    "    log_likelihood_l.append(objectif_new)\n",
    "    \n",
    "    while abs((objectif_old - objectif_new) / objectif_old) > 10e-5:\n",
    "        \n",
    "        # E step\n",
    "        q = Estep(X, pi, cov, mu)\n",
    "        \n",
    "        # M step\n",
    "        pi, cov, mu = Mstep(X, pi, cov, mu, q)\n",
    "        \n",
    "        # Update of the objectif\n",
    "        objectif_old = objectif_new\n",
    "        objectif_new = objectif(X, pi, cov, mu, q)\n",
    "        print(objectif_new)\n",
    "        \n",
    "        # Update the saving array of the log-likelihood\n",
    "        log_likelihood_l.append(objectif_new)\n",
    "        \n",
    "    return pi, cov, mu, q, log_likelihood_l"
   ]
  },
  {
   "cell_type": "code",
   "execution_count": 145,
   "metadata": {
    "ExecuteTime": {
     "end_time": "2018-11-09T11:49:49.008401Z",
     "start_time": "2018-11-09T11:49:41.940299Z"
    },
    "scrolled": true
   },
   "outputs": [
    {
     "name": "stdout",
     "output_type": "stream",
     "text": [
      "-1.9562613835678373\n",
      "-1.8666039797641458\n",
      "-1.7248484202226957\n",
      "-1.5436603155289195\n",
      "-1.3844373842119766\n",
      "-1.2968170955040264\n",
      "-1.2662361866477374\n",
      "-1.2593348797323154\n",
      "-1.261066829734953\n",
      "-1.2659187216612624\n",
      "-1.2715419501967067\n",
      "-1.2766849050268576\n",
      "-1.2805852894357526\n",
      "-1.2827891864407064\n",
      "-1.2831036335634\n",
      "-1.281586561417295\n",
      "-1.2785249445040074\n",
      "-1.2743749178613264\n",
      "-1.2696659465107205\n",
      "-1.2648956322544256\n",
      "-1.2604488822207225\n",
      "-1.2565625861540626\n",
      "-1.2533346508182288\n",
      "-1.2507596804679675\n",
      "-1.2487708482025406\n",
      "-1.2472746455872117\n",
      "-1.2461739796760014\n",
      "-1.2453807066161635\n",
      "-1.244820737448869\n",
      "-1.244434772548472\n",
      "-1.2441768828476056\n",
      "-1.2440122946619072\n",
      "-1.2439150998172273\n"
     ]
    }
   ],
   "source": [
    "# Execute the EM algorithm and compute the parameters\n",
    "pi_em, cov_em, mu_em, q_em, log_likelihood_l = EM(X)"
   ]
  },
  {
   "cell_type": "code",
   "execution_count": 146,
   "metadata": {
    "ExecuteTime": {
     "end_time": "2018-11-09T11:49:49.810101Z",
     "start_time": "2018-11-09T11:49:49.027282Z"
    }
   },
   "outputs": [
    {
     "data": {
      "image/png": "[encoded data removed]",
      "text/plain": [
       "<Figure size 792x792 with 1 Axes>"
      ]
     },
     "metadata": {
      "needs_background": "light"
     },
     "output_type": "display_data"
    }
   ],
   "source": [
    "# Display the results\n",
    "figure_EM(np.array(X), pi_em, cov_em, mu_em, q_em, name=\"EM_General\")"
   ]
  },
  {
   "cell_type": "markdown",
   "metadata": {},
   "source": [
    "### Display the log_likelihood over the iteration"
   ]
  },
  {
   "cell_type": "code",
   "execution_count": 147,
   "metadata": {
    "ExecuteTime": {
     "end_time": "2018-11-09T11:50:01.237351Z",
     "start_time": "2018-11-09T11:50:00.781885Z"
    }
   },
   "outputs": [
    {
     "data": {
      "image/png": "[encoded data removed]",
      "text/plain": [
       "<Figure size 864x576 with 1 Axes>"
      ]
     },
     "metadata": {
      "needs_background": "light"
     },
     "output_type": "display_data"
    }
   ],
   "source": [
    "# Parameters of the figure\n",
    "fig, ax = plt.subplots(figsize=(12,8))\n",
    "plt.grid(True)\n",
    "\n",
    "# Parameter\n",
    "nb_iter = len(log_likelihood_l)\n",
    "\n",
    "# Values of the x array\n",
    "X = np.array([i for i in range(nb_iter)])\n",
    "\n",
    "# Display the two histogrammes\n",
    "plt.plot(X, log_likelihood_l, label=\"Log-likelihood\")\n",
    "\n",
    "# Legend\n",
    "plt.legend()\n",
    "\n",
    "# Labels of the axis\n",
    "plt.xlabel(\"Iteration\")\n",
    "plt.ylabel(\"Log-likelihood\")\n",
    "\n",
    "# Save the figure\n",
    "plt.savefig(\"Images/Log-likelihood.eps\", bbox_inches='tight', pad_inches=0.0)\n",
    "\n",
    "# Display the figure\n",
    "plt.show()"
   ]
  },
  {
   "cell_type": "markdown",
   "metadata": {},
   "source": [
    "## Question 2.4"
   ]
  },
  {
   "cell_type": "code",
   "execution_count": 149,
   "metadata": {
    "ExecuteTime": {
     "end_time": "2018-11-09T11:50:54.598799Z",
     "start_time": "2018-11-09T11:50:54.589995Z"
    }
   },
   "outputs": [
    {
     "name": "stdout",
     "output_type": "stream",
     "text": [
      "True probability distribution of Z:,  [0.25, 0.25, 0.5]\n",
      "Approx. probability distribution of Z:  [0.27319933 0.256038   0.47076267]\n",
      "True means mu:,  [[ 1.8500726  -0.64772811]\n",
      " [ 0.210644    0.9592446 ]\n",
      " [ 2.22636877  0.26826735]]\n",
      "Approx. means mu:  [[ 1.81580932 -0.59251285]\n",
      " [ 0.18586627  0.96917436]\n",
      " [ 2.23241909  0.25297606]]\n",
      "True covariance matrices:  [[[ 0.12442987  0.0294925 ]\n",
      "  [ 0.0294925   0.15894337]]\n",
      "\n",
      " [[ 0.16514987 -0.01643957]\n",
      "  [-0.01643957  0.15749557]]\n",
      "\n",
      " [[ 0.17763379 -0.01198542]\n",
      "  [-0.01198542  0.1891437 ]]]\n",
      "Approx. covariance matrices:  [[[ 0.14742476  0.04664684]\n",
      "  [ 0.04664684  0.17911968]]\n",
      "\n",
      " [[ 0.16804963 -0.02139762]\n",
      "  [-0.02139762  0.13372223]]\n",
      "\n",
      " [[ 0.20301107 -0.03685601]\n",
      "  [-0.03685601  0.18903531]]]\n"
     ]
    }
   ],
   "source": [
    "# Comparison with the original parameters\n",
    "# Comparison on the distribution of Z\n",
    "print(\"True probability distribution of Z:, \", [0.25, 0.25, 0.5])\n",
    "print(\"Approx. probability distribution of Z: \", pi_em)\n",
    "\n",
    "# Comparison on the means mu\n",
    "print(\"True means mu:, \", mu_x)\n",
    "print(\"Approx. means mu: \", mu_em)\n",
    "\n",
    "# Comparison on the covariance matrices\n",
    "print(\"True covariance matrices: \", cov_x)\n",
    "print(\"Approx. covariance matrices: \", cov_em)"
   ]
  },
  {
   "cell_type": "markdown",
   "metadata": {},
   "source": [
    "## Question 2.5"
   ]
  },
  {
   "cell_type": "code",
   "execution_count": null,
   "metadata": {},
   "outputs": [],
   "source": []
  },
  {
   "cell_type": "markdown",
   "metadata": {},
   "source": [
    "# Exercice 3"
   ]
  },
  {
   "cell_type": "code",
   "execution_count": null,
   "metadata": {},
   "outputs": [],
   "source": []
  }
 ],
 "metadata": {
  "kernelspec": {
   "display_name": "Python 3",
   "language": "python",
   "name": "python3"
  },
  "language_info": {
   "codemirror_mode": {
    "name": "ipython",
    "version": 3
   },
   "file_extension": ".py",
   "mimetype": "text/x-python",
   "name": "python",
   "nbconvert_exporter": "python",
   "pygments_lexer": "ipython3",
   "version": "3.6.3"
  },
  "latex_envs": {
   "LaTeX_envs_menu_present": true,
   "autoclose": false,
   "autocomplete": true,
   "bibliofile": "biblio.bib",
   "cite_by": "apalike",
   "current_citInitial": 1,
   "eqLabelWithNumbers": true,
   "eqNumInitial": 1,
   "hotkeys": {
    "equation": "Ctrl-E",
    "itemize": "Ctrl-I"
   },
   "labels_anchors": false,
   "latex_user_defs": false,
   "report_style_numbering": false,
   "user_envs_cfg": false
  },
  "varInspector": {
   "cols": {
    "lenName": 16,
    "lenType": 16,
    "lenVar": 40
   },
   "kernels_config": {
    "python": {
     "delete_cmd_postfix": "",
     "delete_cmd_prefix": "del ",
     "library": "var_list.py",
     "varRefreshCmd": "print(var_dic_list())"
    },
    "r": {
     "delete_cmd_postfix": ") ",
     "delete_cmd_prefix": "rm(",
     "library": "var_list.r",
     "varRefreshCmd": "cat(var_dic_list()) "
    }
   },
   "types_to_exclude": [
    "module",
    "function",
    "builtin_function_or_method",
    "instance",
    "_Feature"
   ],
   "window_display": false
  }
 },
 "nbformat": 4,
 "nbformat_minor": 2
}
