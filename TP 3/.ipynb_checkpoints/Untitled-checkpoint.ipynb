{
 "cells": [
  {
   "cell_type": "markdown",
   "metadata": {},
   "source": [
    "# 0 - Information"
   ]
  },
  {
   "cell_type": "code",
   "execution_count": null,
   "metadata": {},
   "outputs": [],
   "source": []
  },
  {
   "cell_type": "markdown",
   "metadata": {},
   "source": [
    "# 1 - Packages"
   ]
  },
  {
   "cell_type": "code",
   "execution_count": 1,
   "metadata": {
    "ExecuteTime": {
     "end_time": "2018-11-23T11:32:28.804049Z",
     "start_time": "2018-11-23T11:32:28.801374Z"
    }
   },
   "outputs": [],
   "source": [
    "import numpy as np"
   ]
  },
  {
   "cell_type": "markdown",
   "metadata": {},
   "source": [
    "# 2 - Metropolis-Hastings Algorithm"
   ]
  },
  {
   "cell_type": "code",
   "execution_count": 7,
   "metadata": {
    "ExecuteTime": {
     "end_time": "2018-11-23T11:48:28.218691Z",
     "start_time": "2018-11-23T11:48:28.213634Z"
    }
   },
   "outputs": [],
   "source": [
    "# Number of individuals\n",
    "N = 10"
   ]
  },
  {
   "cell_type": "code",
   "execution_count": 5,
   "metadata": {
    "ExecuteTime": {
     "end_time": "2018-11-23T11:42:59.291585Z",
     "start_time": "2018-11-23T11:42:59.286105Z"
    }
   },
   "outputs": [
    {
     "data": {
      "text/plain": [
       "array([ 0.00000000e+00, -5.90155504e-01,  9.77353700e+02])"
      ]
     },
     "execution_count": 5,
     "metadata": {},
     "output_type": "execute_result"
    }
   ],
   "source": [
    "X_0 = np.random.rand()"
   ]
  },
  {
   "cell_type": "code",
   "execution_count": 8,
   "metadata": {
    "ExecuteTime": {
     "end_time": "2018-11-23T11:48:29.855752Z",
     "start_time": "2018-11-23T11:48:29.850109Z"
    }
   },
   "outputs": [],
   "source": [
    "def simulation_z(y, theta_i_k, theta_pop_k, H, N=N):\n",
    "    \"\"\"Simulate the z through a SRW.\"\"\"\n",
    "    \n",
    "    # theta_i_k:  [sigma_epsilon_i, sigma_tau_i, sigma_i]\n",
    "    # theta_pop_k: [t_0_bar, v_0_bar]\n",
    "    # H: set of hyperparameters: [sigma_t_0, sigma_v_0]\n",
    "    \n",
    "    # z_i\n",
    "    alpha_i_k_plus_1 = np.exp(np.random.normal(0, theta_i_k[:,0]**2))\n",
    "    tau_i_k_plus_1 = np.random.normal(0, theta_i_k[:,1]**2)\n",
    "    z_i_k_plus_1 = np.array([alpha_i_k_plus_1, tau_i_k_plus_1]).T\n",
    "    \n",
    "    # z_pop\n",
    "    t_0_k_plus_1 = np.random.normal(theta_pop_k[:,0], H[0]**2)\n",
    "    v_0_k_plus_1 = np.random.normal(theta_pop_k[:,1], H[1]**2)\n",
    "    z_pop_k_plus_1 = np.array([t_0_k_plus_1, v_0_k_plus_1]).T\n",
    "    \n",
    "    return [z_i_k_plus_1, z_pop_k_plus_1]"
   ]
  },
  {
   "cell_type": "code",
   "execution_count": null,
   "metadata": {},
   "outputs": [],
   "source": [
    "def SRW_t0(tau=4):\n",
    "    \"\"\"Simulation of t0.\"\"\"\n",
    "    \n",
    "    \n",
    "    "
   ]
  },
  {
   "cell_type": "code",
   "execution_count": null,
   "metadata": {},
   "outputs": [],
   "source": [
    "def gibbsSampler()"
   ]
  }
 ],
 "metadata": {
  "kernelspec": {
   "display_name": "Python 3",
   "language": "python",
   "name": "python3"
  },
  "language_info": {
   "codemirror_mode": {
    "name": "ipython",
    "version": 3
   },
   "file_extension": ".py",
   "mimetype": "text/x-python",
   "name": "python",
   "nbconvert_exporter": "python",
   "pygments_lexer": "ipython3",
   "version": "3.6.3"
  },
  "latex_envs": {
   "LaTeX_envs_menu_present": true,
   "autoclose": false,
   "autocomplete": true,
   "bibliofile": "biblio.bib",
   "cite_by": "apalike",
   "current_citInitial": 1,
   "eqLabelWithNumbers": true,
   "eqNumInitial": 1,
   "hotkeys": {
    "equation": "Ctrl-E",
    "itemize": "Ctrl-I"
   },
   "labels_anchors": false,
   "latex_user_defs": false,
   "report_style_numbering": false,
   "user_envs_cfg": false
  },
  "varInspector": {
   "cols": {
    "lenName": 16,
    "lenType": 16,
    "lenVar": 40
   },
   "kernels_config": {
    "python": {
     "delete_cmd_postfix": "",
     "delete_cmd_prefix": "del ",
     "library": "var_list.py",
     "varRefreshCmd": "print(var_dic_list())"
    },
    "r": {
     "delete_cmd_postfix": ") ",
     "delete_cmd_prefix": "rm(",
     "library": "var_list.r",
     "varRefreshCmd": "cat(var_dic_list()) "
    }
   },
   "types_to_exclude": [
    "module",
    "function",
    "builtin_function_or_method",
    "instance",
    "_Feature"
   ],
   "window_display": false
  }
 },
 "nbformat": 4,
 "nbformat_minor": 2
}
